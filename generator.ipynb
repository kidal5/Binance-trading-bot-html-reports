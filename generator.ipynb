{
 "cells": [
  {
   "cell_type": "markdown",
   "metadata": {},
   "source": [
    "# Binance report\n",
    "### Vladislav Trnka 2020 "
   ]
  },
  {
   "cell_type": "markdown",
   "metadata": {
    "tags": [
     "remove_cell"
    ]
   },
   "source": [
    "# Data processing"
   ]
  },
  {
   "cell_type": "markdown",
   "metadata": {},
   "source": [
    "<hr style=\"border-top: 5px solid purple; margin-top: 1px; margin-bottom: 1px\"></hr>"
   ]
  },
  {
   "cell_type": "code",
   "execution_count": 158,
   "metadata": {
    "tags": [
     "remove_cell"
    ]
   },
   "outputs": [],
   "source": [
    "import pandas as pd\n",
    "import numpy as np\n",
    "import seaborn as sns\n",
    "import matplotlib.pyplot as plt"
   ]
  },
  {
   "cell_type": "code",
   "execution_count": 124,
   "metadata": {
    "tags": [
     "remove_cell"
    ]
   },
   "outputs": [],
   "source": [
    "#load data\n",
    "df = pd.read_csv('data.log', sep=\" \")\n",
    "df['timeBought'] = pd.to_datetime(df['timeBought'], unit='s')\n",
    "df['timeSell'] = pd.to_datetime(df['timeSell'], unit='s')"
   ]
  },
  {
   "cell_type": "code",
   "execution_count": 125,
   "metadata": {
    "tags": [
     "remove_cell"
    ]
   },
   "outputs": [],
   "source": [
    "#create usefull columns\n",
    "df['timeDelta'] = df['timeSell'] - df['timeBought']\n",
    "df['winBetter'] = df['win'] * 2 - 1"
   ]
  },
  {
   "cell_type": "code",
   "execution_count": 126,
   "metadata": {
    "tags": [
     "remove_cell"
    ]
   },
   "outputs": [],
   "source": [
    "#win\n",
    "currentWinTrueValue = 0\n",
    "currentWinFalseValue = 0\n",
    "\n",
    "winTrueColumn = []\n",
    "winFalseColumn = []\n",
    "\n",
    "for win in df['win']:\n",
    "    \n",
    "    if win:\n",
    "        currentWinTrueValue += 1\n",
    "    else:\n",
    "        currentWinFalseValue += 1\n",
    "    \n",
    "    winTrueColumn.append(currentWinTrueValue)\n",
    "    winFalseColumn.append(currentWinFalseValue)\n",
    "\n",
    "df['winTrue'] = winTrueColumn\n",
    "df['winFalse'] = winFalseColumn"
   ]
  },
  {
   "cell_type": "code",
   "execution_count": 127,
   "metadata": {
    "tags": [
     "remove_cell"
    ]
   },
   "outputs": [],
   "source": [
    "#gain\n",
    "currentGainValue = 0\n",
    "currentGainTrueValue = 0\n",
    "currentGainFalseValue = 0\n",
    "\n",
    "gainColumn = []\n",
    "gainTrueColumn = []\n",
    "gainFalseColumn = []\n",
    "\n",
    "for win, sumBought, sumSell in zip(df['win'], df['sumBought'], df['sumSell']):\n",
    "    \n",
    "    diff = sumSell - sumBought\n",
    "    \n",
    "    currentGainValue += diff\n",
    "    \n",
    "    if win:\n",
    "        currentGainTrueValue += diff\n",
    "    else:\n",
    "        currentGainFalseValue += diff\n",
    "\n",
    "    gainColumn.append(currentGainValue)\n",
    "    gainTrueColumn.append(currentGainTrueValue)\n",
    "    gainFalseColumn.append(currentGainFalseValue)\n",
    "\n",
    "df['gain'] = gainColumn\n",
    "df['gainTrue'] = gainTrueColumn\n",
    "df['gainFalse'] = gainFalseColumn"
   ]
  },
  {
   "cell_type": "markdown",
   "metadata": {},
   "source": [
    "# Some interestring values"
   ]
  },
  {
   "cell_type": "markdown",
   "metadata": {},
   "source": [
    "### 5 best coins"
   ]
  },
  {
   "cell_type": "code",
   "execution_count": 156,
   "metadata": {
    "tags": [
     "remove_input"
    ]
   },
   "outputs": [
    {
     "data": {
      "text/html": [
       "<div>\n",
       "<style scoped>\n",
       "    .dataframe tbody tr th:only-of-type {\n",
       "        vertical-align: middle;\n",
       "    }\n",
       "\n",
       "    .dataframe tbody tr th {\n",
       "        vertical-align: top;\n",
       "    }\n",
       "\n",
       "    .dataframe thead th {\n",
       "        text-align: right;\n",
       "    }\n",
       "</style>\n",
       "<table border=\"1\" class=\"dataframe\">\n",
       "  <thead>\n",
       "    <tr style=\"text-align: right;\">\n",
       "      <th></th>\n",
       "      <th>winBetter</th>\n",
       "      <th>gain</th>\n",
       "    </tr>\n",
       "    <tr>\n",
       "      <th>pair</th>\n",
       "      <th></th>\n",
       "      <th></th>\n",
       "    </tr>\n",
       "  </thead>\n",
       "  <tbody>\n",
       "    <tr>\n",
       "      <th>MITHUSDT</th>\n",
       "      <td>2</td>\n",
       "      <td>0.738336</td>\n",
       "    </tr>\n",
       "    <tr>\n",
       "      <th>ICXUSDT</th>\n",
       "      <td>1</td>\n",
       "      <td>0.375723</td>\n",
       "    </tr>\n",
       "  </tbody>\n",
       "</table>\n",
       "</div>"
      ],
      "text/plain": [
       "          winBetter      gain\n",
       "pair                         \n",
       "MITHUSDT          2  0.738336\n",
       "ICXUSDT           1  0.375723"
      ]
     },
     "execution_count": 156,
     "metadata": {},
     "output_type": "execute_result"
    }
   ],
   "source": [
    "df_temp = df.drop(columns=['priceBought', 'priceSell', 'winTrue', 'winFalse', 'gainTrue', 'gainFalse', 'win', 'gain'])\n",
    "df_temp['gain'] = df_temp['sumSell'] - df_temp['sumBought']\n",
    "df_temp = df_temp.drop(columns=['sumBought', 'sumSell'])\n",
    "\n",
    "df_temp.groupby(by='pair').sum().sort_values(by='winBetter', ascending=False).head(5)"
   ]
  },
  {
   "cell_type": "markdown",
   "metadata": {},
   "source": [
    "### 5 worst coins"
   ]
  },
  {
   "cell_type": "code",
   "execution_count": 134,
   "metadata": {
    "tags": [
     "remove_input"
    ]
   },
   "outputs": [
    {
     "data": {
      "text/html": [
       "<div>\n",
       "<style scoped>\n",
       "    .dataframe tbody tr th:only-of-type {\n",
       "        vertical-align: middle;\n",
       "    }\n",
       "\n",
       "    .dataframe tbody tr th {\n",
       "        vertical-align: top;\n",
       "    }\n",
       "\n",
       "    .dataframe thead th {\n",
       "        text-align: right;\n",
       "    }\n",
       "</style>\n",
       "<table border=\"1\" class=\"dataframe\">\n",
       "  <thead>\n",
       "    <tr style=\"text-align: right;\">\n",
       "      <th></th>\n",
       "      <th>winBetter</th>\n",
       "      <th>gain</th>\n",
       "    </tr>\n",
       "    <tr>\n",
       "      <th>pair</th>\n",
       "      <th></th>\n",
       "      <th></th>\n",
       "    </tr>\n",
       "  </thead>\n",
       "  <tbody>\n",
       "    <tr>\n",
       "      <th>ICXUSDT</th>\n",
       "      <td>1</td>\n",
       "      <td>0.375723</td>\n",
       "    </tr>\n",
       "    <tr>\n",
       "      <th>MITHUSDT</th>\n",
       "      <td>2</td>\n",
       "      <td>0.738336</td>\n",
       "    </tr>\n",
       "  </tbody>\n",
       "</table>\n",
       "</div>"
      ],
      "text/plain": [
       "          winBetter      gain\n",
       "pair                         \n",
       "ICXUSDT           1  0.375723\n",
       "MITHUSDT          2  0.738336"
      ]
     },
     "execution_count": 134,
     "metadata": {},
     "output_type": "execute_result"
    }
   ],
   "source": [
    "df_temp.groupby(by='pair').sum().sort_values(by='winBetter', ascending=True).head(5)"
   ]
  },
  {
   "cell_type": "markdown",
   "metadata": {},
   "source": [
    "### Time delta statistics"
   ]
  },
  {
   "cell_type": "code",
   "execution_count": 150,
   "metadata": {
    "tags": [
     "remove_input"
    ]
   },
   "outputs": [
    {
     "data": {
      "text/html": [
       "<img src onerror=\"var cell = this.closest('.jp-CodeCell');var editor = cell.querySelector('.jp-Editor');editor.style.background='honeydew';this.parentNode.removeChild(this)\" style=\"display:none\">"
      ],
      "text/plain": [
       "<IPython.core.display.HTML object>"
      ]
     },
     "metadata": {},
     "output_type": "display_data"
    },
    {
     "name": "stdout",
     "output_type": "stream",
     "text": [
      "Mean   :  0 days 00:18:20.650108575\n",
      "Median :  0 days 00:15:05.476741314\n",
      "Max    :  0 days 00:25:01.755124569\n",
      "Min    :  0 days 00:14:54.718459844\n"
     ]
    }
   ],
   "source": [
    "print(\"Mean   : \", df['timeDelta'].mean())\n",
    "print(\"Median : \", df['timeDelta'].median())\n",
    "print(\"Max    : \", df['timeDelta'].max())\n",
    "print(\"Min    : \", df['timeDelta'].min())"
   ]
  },
  {
   "cell_type": "markdown",
   "metadata": {},
   "source": [
    "<hr style=\"border-top: 5px solid purple; margin-top: 1px; margin-bottom: 1px\"></hr>"
   ]
  },
  {
   "cell_type": "markdown",
   "metadata": {},
   "source": [
    "# Graphs"
   ]
  },
  {
   "cell_type": "markdown",
   "metadata": {},
   "source": [
    "### Completed trades comparison"
   ]
  },
  {
   "cell_type": "code",
   "execution_count": 131,
   "metadata": {
    "tags": [
     "remove_input"
    ]
   },
   "outputs": [
    {
     "name": "stdout",
     "output_type": "stream",
     "text": [
      "\n"
     ]
    },
    {
     "data": {
      "image/png": "[encoded data removed]",
      "text/plain": [
       "<Figure size 1296x576 with 1 Axes>"
      ]
     },
     "metadata": {
      "needs_background": "light"
     },
     "output_type": "display_data"
    }
   ],
   "source": [
    "plt.figure(figsize=(18,8))\n",
    "sns.lineplot(data=df, x='timeSell', y='winTrue', color='green')\n",
    "sns.lineplot(data=df, x='timeSell', y='winFalse', color='red')\n",
    "plt.title('Completed trades comparison')\n",
    "plt.ylabel('count')\n",
    "print()"
   ]
  },
  {
   "cell_type": "markdown",
   "metadata": {},
   "source": [
    "### USD gained"
   ]
  },
  {
   "cell_type": "code",
   "execution_count": 132,
   "metadata": {
    "tags": [
     "remove_input"
    ]
   },
   "outputs": [
    {
     "name": "stdout",
     "output_type": "stream",
     "text": [
      "\n"
     ]
    },
    {
     "data": {
      "image/png": "[encoded data removed]",
      "text/plain": [
       "<Figure size 1296x576 with 1 Axes>"
      ]
     },
     "metadata": {
      "needs_background": "light"
     },
     "output_type": "display_data"
    }
   ],
   "source": [
    "plt.figure(figsize=(18,8))\n",
    "sns.lineplot(data=df, x='timeSell', y='gain', color='blue')\n",
    "sns.lineplot(data=df, x='timeSell', y='gainTrue', color='green')\n",
    "sns.lineplot(data=df, x='timeSell', y='gainFalse', color='red')\n",
    "plt.title('USD gained')\n",
    "plt.ylabel('USD')\n",
    "print()"
   ]
  }
 ],
 "metadata": {
  "celltoolbar": "Tags",
  "kernelspec": {
   "display_name": "Python 3",
   "language": "python",
   "name": "python3"
  },
  "language_info": {
   "codemirror_mode": {
    "name": "ipython",
    "version": 3
   },
   "file_extension": ".py",
   "mimetype": "text/x-python",
   "name": "python",
   "nbconvert_exporter": "python",
   "pygments_lexer": "ipython3",
   "version": "3.8.5"
  }
 },
 "nbformat": 4,
 "nbformat_minor": 4
}
